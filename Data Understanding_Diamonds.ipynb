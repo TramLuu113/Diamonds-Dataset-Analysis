{
 "cells": [
  {
   "cell_type": "markdown",
   "metadata": {
    "application/vnd.databricks.v1+cell": {
     "cellMetadata": {
      "byteLimit": 2048000,
      "rowLimit": 10000
     },
     "inputWidgets": {},
     "nuid": "36811757-ed63-42dd-9926-7e18ac8a8a81",
     "showTitle": false,
     "title": ""
    }
   },
   "source": [
    "## STEP 1: Create a Spark table from the CSV data\n",
    "##\n",
    "The provided SQL code establishes a Spark table named 'diamonds' by importing data from a CSV file located at \"/databricks-datasets/Rdatasets/data-001/csv/ggplot2/diamonds.csv\""
   ]
  },
  {
   "cell_type": "code",
   "execution_count": 0,
   "metadata": {
    "application/vnd.databricks.v1+cell": {
     "cellMetadata": {
      "byteLimit": 2048000,
      "implicitDf": true,
      "rowLimit": 10000
     },
     "inputWidgets": {},
     "nuid": "6e20d0d9-5b41-4229-8f7a-efaacf305b85",
     "showTitle": false,
     "title": ""
    }
   },
   "outputs": [
    {
     "output_type": "display_data",
     "data": {
      "text/html": [
       "<style scoped>\n",
       "  .table-result-container {\n",
       "    max-height: 300px;\n",
       "    overflow: auto;\n",
       "  }\n",
       "  table, th, td {\n",
       "    border: 1px solid black;\n",
       "    border-collapse: collapse;\n",
       "  }\n",
       "  th, td {\n",
       "    padding: 5px;\n",
       "  }\n",
       "  th {\n",
       "    text-align: left;\n",
       "  }\n",
       "</style><div class='table-result-container'><table class='table-result'><thead style='background-color: white'><tr></tr></thead><tbody></tbody></table></div>"
      ]
     },
     "metadata": {
      "application/vnd.databricks.v1+output": {
       "addedWidgets": {},
       "aggData": [],
       "aggError": "",
       "aggOverflow": false,
       "aggSchema": [],
       "aggSeriesLimitReached": false,
       "aggType": "",
       "arguments": {},
       "columnCustomDisplayInfos": {},
       "data": [],
       "datasetInfos": [],
       "dbfsResultPath": null,
       "isJsonSchema": true,
       "metadata": {},
       "overflow": false,
       "plotOptions": {
        "customPlotOptions": {},
        "displayType": "table",
        "pivotAggregation": null,
        "pivotColumns": null,
        "xColumns": null,
        "yColumns": null
       },
       "removedWidgets": [],
       "schema": [],
       "type": "table"
      }
     },
     "output_type": "display_data"
    }
   ],
   "source": [
    "%sql\n",
    "\n",
    "-- Creates or replaces a 'diamonds' table using data from a CSV file.\n",
    "-- Ensure the file path is correct, and note that existing data in 'diamonds' will be lost.\n",
    "\n",
    "DROP TABLE IF EXISTS diamonds;\n",
    "\n",
    "CREATE TABLE diamonds USING CSV OPTIONS (path \"/databricks-datasets/Rdatasets/data-001/csv/ggplot2/diamonds.csv\", header \"true\")"
   ]
  },
  {
   "cell_type": "code",
   "execution_count": 0,
   "metadata": {
    "application/vnd.databricks.v1+cell": {
     "cellMetadata": {
      "byteLimit": 2048000,
      "implicitDf": true,
      "rowLimit": 10000
     },
     "inputWidgets": {},
     "nuid": "dab586c0-2148-4468-8346-c3f0dea99280",
     "showTitle": false,
     "title": ""
    }
   },
   "outputs": [
    {
     "output_type": "display_data",
     "data": {
      "text/html": [
       "<style scoped>\n",
       "  .table-result-container {\n",
       "    max-height: 300px;\n",
       "    overflow: auto;\n",
       "  }\n",
       "  table, th, td {\n",
       "    border: 1px solid black;\n",
       "    border-collapse: collapse;\n",
       "  }\n",
       "  th, td {\n",
       "    padding: 5px;\n",
       "  }\n",
       "  th {\n",
       "    text-align: left;\n",
       "  }\n",
       "</style><div class='table-result-container'><table class='table-result'><thead style='background-color: white'><tr><th>color</th><th>price</th></tr></thead><tbody><tr><td>D</td><td>3169.9540959409596</td></tr><tr><td>E</td><td>3076.7524752475247</td></tr><tr><td>F</td><td>3724.886396981765</td></tr><tr><td>G</td><td>3999.135671271697</td></tr><tr><td>H</td><td>4486.669195568401</td></tr><tr><td>I</td><td>5091.874953891553</td></tr><tr><td>J</td><td>5323.81801994302</td></tr></tbody></table></div>"
      ]
     },
     "metadata": {
      "application/vnd.databricks.v1+output": {
       "addedWidgets": {},
       "aggData": [],
       "aggError": "",
       "aggOverflow": false,
       "aggSchema": [],
       "aggSeriesLimitReached": false,
       "aggType": "",
       "arguments": {},
       "columnCustomDisplayInfos": {},
       "data": [
        [
         "D",
         3169.9540959409596
        ],
        [
         "E",
         3076.7524752475247
        ],
        [
         "F",
         3724.886396981765
        ],
        [
         "G",
         3999.135671271697
        ],
        [
         "H",
         4486.669195568401
        ],
        [
         "I",
         5091.874953891553
        ],
        [
         "J",
         5323.81801994302
        ]
       ],
       "datasetInfos": [],
       "dbfsResultPath": null,
       "isJsonSchema": true,
       "metadata": {},
       "overflow": false,
       "plotOptions": {
        "customPlotOptions": {},
        "displayType": "table",
        "pivotAggregation": null,
        "pivotColumns": null,
        "xColumns": null,
        "yColumns": null
       },
       "removedWidgets": [],
       "schema": [
        {
         "metadata": "{}",
         "name": "color",
         "type": "\"string\""
        },
        {
         "metadata": "{}",
         "name": "price",
         "type": "\"double\""
        }
       ],
       "type": "table"
      }
     },
     "output_type": "display_data"
    }
   ],
   "source": [
    "%sql\n",
    "SELECT color, avg(price) AS price FROM diamonds GROUP BY color ORDER BY COLOR"
   ]
  },
  {
   "cell_type": "markdown",
   "metadata": {
    "application/vnd.databricks.v1+cell": {
     "cellMetadata": {
      "byteLimit": 2048000,
      "rowLimit": 10000
     },
     "inputWidgets": {},
     "nuid": "b0ce7287-930f-45a1-8dad-abb72137f20a",
     "showTitle": false,
     "title": ""
    }
   },
   "source": [
    "\n",
    "## STEP 2: Data Understanding\n",
    "##\n",
    "This section includes a set of SQL queries providing a descriptive analysis of the 'diamonds' table, offering insights into the data distribution, summary statistics, average price per carat across different cuts, etc. and examines the correlation between target variable - 'price' with others."
   ]
  },
  {
   "cell_type": "code",
   "execution_count": 0,
   "metadata": {
    "application/vnd.databricks.v1+cell": {
     "cellMetadata": {
      "byteLimit": 2048000,
      "implicitDf": true,
      "rowLimit": 10000
     },
     "inputWidgets": {},
     "nuid": "48cd8e30-8784-4820-8149-4cad670af1ec",
     "showTitle": false,
     "title": ""
    }
   },
   "outputs": [
    {
     "output_type": "display_data",
     "data": {
      "text/html": [
       "<style scoped>\n",
       "  .table-result-container {\n",
       "    max-height: 300px;\n",
       "    overflow: auto;\n",
       "  }\n",
       "  table, th, td {\n",
       "    border: 1px solid black;\n",
       "    border-collapse: collapse;\n",
       "  }\n",
       "  th, td {\n",
       "    padding: 5px;\n",
       "  }\n",
       "  th {\n",
       "    text-align: left;\n",
       "  }\n",
       "</style><div class='table-result-container'><table class='table-result'><thead style='background-color: white'><tr><th>_c0</th><th>carat</th><th>cut</th><th>color</th><th>clarity</th><th>depth</th><th>table</th><th>price</th><th>x</th><th>y</th><th>z</th></tr></thead><tbody><tr><td>1</td><td>0.23</td><td>Ideal</td><td>E</td><td>SI2</td><td>61.5</td><td>55</td><td>326</td><td>3.95</td><td>3.98</td><td>2.43</td></tr><tr><td>2</td><td>0.21</td><td>Premium</td><td>E</td><td>SI1</td><td>59.8</td><td>61</td><td>326</td><td>3.89</td><td>3.84</td><td>2.31</td></tr><tr><td>3</td><td>0.23</td><td>Good</td><td>E</td><td>VS1</td><td>56.9</td><td>65</td><td>327</td><td>4.05</td><td>4.07</td><td>2.31</td></tr><tr><td>4</td><td>0.29</td><td>Premium</td><td>I</td><td>VS2</td><td>62.4</td><td>58</td><td>334</td><td>4.2</td><td>4.23</td><td>2.63</td></tr><tr><td>5</td><td>0.31</td><td>Good</td><td>J</td><td>SI2</td><td>63.3</td><td>58</td><td>335</td><td>4.34</td><td>4.35</td><td>2.75</td></tr><tr><td>6</td><td>0.24</td><td>Very Good</td><td>J</td><td>VVS2</td><td>62.8</td><td>57</td><td>336</td><td>3.94</td><td>3.96</td><td>2.48</td></tr><tr><td>7</td><td>0.24</td><td>Very Good</td><td>I</td><td>VVS1</td><td>62.3</td><td>57</td><td>336</td><td>3.95</td><td>3.98</td><td>2.47</td></tr><tr><td>8</td><td>0.26</td><td>Very Good</td><td>H</td><td>SI1</td><td>61.9</td><td>55</td><td>337</td><td>4.07</td><td>4.11</td><td>2.53</td></tr><tr><td>9</td><td>0.22</td><td>Fair</td><td>E</td><td>VS2</td><td>65.1</td><td>61</td><td>337</td><td>3.87</td><td>3.78</td><td>2.49</td></tr><tr><td>10</td><td>0.23</td><td>Very Good</td><td>H</td><td>VS1</td><td>59.4</td><td>61</td><td>338</td><td>4</td><td>4.05</td><td>2.39</td></tr></tbody></table></div>"
      ]
     },
     "metadata": {
      "application/vnd.databricks.v1+output": {
       "addedWidgets": {},
       "aggData": [],
       "aggError": "",
       "aggOverflow": false,
       "aggSchema": [],
       "aggSeriesLimitReached": false,
       "aggType": "",
       "arguments": {},
       "columnCustomDisplayInfos": {},
       "data": [
        [
         "1",
         "0.23",
         "Ideal",
         "E",
         "SI2",
         "61.5",
         "55",
         "326",
         "3.95",
         "3.98",
         "2.43"
        ],
        [
         "2",
         "0.21",
         "Premium",
         "E",
         "SI1",
         "59.8",
         "61",
         "326",
         "3.89",
         "3.84",
         "2.31"
        ],
        [
         "3",
         "0.23",
         "Good",
         "E",
         "VS1",
         "56.9",
         "65",
         "327",
         "4.05",
         "4.07",
         "2.31"
        ],
        [
         "4",
         "0.29",
         "Premium",
         "I",
         "VS2",
         "62.4",
         "58",
         "334",
         "4.2",
         "4.23",
         "2.63"
        ],
        [
         "5",
         "0.31",
         "Good",
         "J",
         "SI2",
         "63.3",
         "58",
         "335",
         "4.34",
         "4.35",
         "2.75"
        ],
        [
         "6",
         "0.24",
         "Very Good",
         "J",
         "VVS2",
         "62.8",
         "57",
         "336",
         "3.94",
         "3.96",
         "2.48"
        ],
        [
         "7",
         "0.24",
         "Very Good",
         "I",
         "VVS1",
         "62.3",
         "57",
         "336",
         "3.95",
         "3.98",
         "2.47"
        ],
        [
         "8",
         "0.26",
         "Very Good",
         "H",
         "SI1",
         "61.9",
         "55",
         "337",
         "4.07",
         "4.11",
         "2.53"
        ],
        [
         "9",
         "0.22",
         "Fair",
         "E",
         "VS2",
         "65.1",
         "61",
         "337",
         "3.87",
         "3.78",
         "2.49"
        ],
        [
         "10",
         "0.23",
         "Very Good",
         "H",
         "VS1",
         "59.4",
         "61",
         "338",
         "4",
         "4.05",
         "2.39"
        ]
       ],
       "datasetInfos": [],
       "dbfsResultPath": null,
       "isJsonSchema": true,
       "metadata": {},
       "overflow": false,
       "plotOptions": {
        "customPlotOptions": {},
        "displayType": "table",
        "pivotAggregation": null,
        "pivotColumns": null,
        "xColumns": null,
        "yColumns": null
       },
       "removedWidgets": [],
       "schema": [
        {
         "metadata": "{}",
         "name": "_c0",
         "type": "\"string\""
        },
        {
         "metadata": "{}",
         "name": "carat",
         "type": "\"string\""
        },
        {
         "metadata": "{}",
         "name": "cut",
         "type": "\"string\""
        },
        {
         "metadata": "{}",
         "name": "color",
         "type": "\"string\""
        },
        {
         "metadata": "{}",
         "name": "clarity",
         "type": "\"string\""
        },
        {
         "metadata": "{}",
         "name": "depth",
         "type": "\"string\""
        },
        {
         "metadata": "{}",
         "name": "table",
         "type": "\"string\""
        },
        {
         "metadata": "{}",
         "name": "price",
         "type": "\"string\""
        },
        {
         "metadata": "{}",
         "name": "x",
         "type": "\"string\""
        },
        {
         "metadata": "{}",
         "name": "y",
         "type": "\"string\""
        },
        {
         "metadata": "{}",
         "name": "z",
         "type": "\"string\""
        }
       ],
       "type": "table"
      }
     },
     "output_type": "display_data"
    }
   ],
   "source": [
    "%sql\n",
    "\n",
    "-- Selects the first 10 records from the 'diamonds' table, providing a quick preview of the data. \n",
    "-- It is useful for a preliminary examination or to get a glimpse of the dataset structure and contents.\n",
    "\n",
    "SELECT * FROM diamonds LIMIT 10"
   ]
  },
  {
   "cell_type": "code",
   "execution_count": 0,
   "metadata": {
    "application/vnd.databricks.v1+cell": {
     "cellMetadata": {
      "byteLimit": 2048000,
      "implicitDf": true,
      "rowLimit": 10000
     },
     "inputWidgets": {},
     "nuid": "f8c5142f-e50d-4198-a96b-f02a1da81bf0",
     "showTitle": false,
     "title": ""
    }
   },
   "outputs": [
    {
     "output_type": "display_data",
     "data": {
      "text/html": [
       "<style scoped>\n",
       "  .table-result-container {\n",
       "    max-height: 300px;\n",
       "    overflow: auto;\n",
       "  }\n",
       "  table, th, td {\n",
       "    border: 1px solid black;\n",
       "    border-collapse: collapse;\n",
       "  }\n",
       "  th, td {\n",
       "    padding: 5px;\n",
       "  }\n",
       "  th {\n",
       "    text-align: left;\n",
       "  }\n",
       "</style><div class='table-result-container'><table class='table-result'><thead style='background-color: white'><tr><th>total_records</th></tr></thead><tbody><tr><td>53940</td></tr></tbody></table></div>"
      ]
     },
     "metadata": {
      "application/vnd.databricks.v1+output": {
       "addedWidgets": {},
       "aggData": [],
       "aggError": "",
       "aggOverflow": false,
       "aggSchema": [],
       "aggSeriesLimitReached": false,
       "aggType": "",
       "arguments": {},
       "columnCustomDisplayInfos": {},
       "data": [
        [
         53940
        ]
       ],
       "datasetInfos": [],
       "dbfsResultPath": null,
       "isJsonSchema": true,
       "metadata": {},
       "overflow": false,
       "plotOptions": {
        "customPlotOptions": {},
        "displayType": "table",
        "pivotAggregation": null,
        "pivotColumns": null,
        "xColumns": null,
        "yColumns": null
       },
       "removedWidgets": [],
       "schema": [
        {
         "metadata": "{}",
         "name": "total_records",
         "type": "\"long\""
        }
       ],
       "type": "table"
      }
     },
     "output_type": "display_data"
    }
   ],
   "source": [
    "%sql\n",
    "\n",
    "-- Calculates and displays the total number of records in the 'diamonds' table, providing a fundamental measure of dataset size.\n",
    "-- 'total_records' represents the count of rows in the 'diamonds' table.\n",
    "\n",
    "SELECT COUNT(*) AS total_records FROM diamonds;"
   ]
  },
  {
   "cell_type": "code",
   "execution_count": 0,
   "metadata": {
    "application/vnd.databricks.v1+cell": {
     "cellMetadata": {
      "byteLimit": 2048000,
      "implicitDf": true,
      "rowLimit": 10000
     },
     "inputWidgets": {},
     "nuid": "578777e5-ae19-4fba-80fd-d1147654c273",
     "showTitle": false,
     "title": ""
    }
   },
   "outputs": [
    {
     "output_type": "display_data",
     "data": {
      "text/html": [
       "<style scoped>\n",
       "  .table-result-container {\n",
       "    max-height: 300px;\n",
       "    overflow: auto;\n",
       "  }\n",
       "  table, th, td {\n",
       "    border: 1px solid black;\n",
       "    border-collapse: collapse;\n",
       "  }\n",
       "  th, td {\n",
       "    padding: 5px;\n",
       "  }\n",
       "  th {\n",
       "    text-align: left;\n",
       "  }\n",
       "</style><div class='table-result-container'><table class='table-result'><thead style='background-color: white'><tr><th>_c0</th><th>carat</th><th>cut</th><th>color</th><th>clarity</th><th>depth</th><th>table</th><th>price</th><th>x</th><th>y</th><th>z</th></tr></thead><tbody></tbody></table></div>"
      ]
     },
     "metadata": {
      "application/vnd.databricks.v1+output": {
       "addedWidgets": {},
       "aggData": [],
       "aggError": "",
       "aggOverflow": false,
       "aggSchema": [],
       "aggSeriesLimitReached": false,
       "aggType": "",
       "arguments": {},
       "columnCustomDisplayInfos": {},
       "data": [],
       "datasetInfos": [],
       "dbfsResultPath": null,
       "isJsonSchema": true,
       "metadata": {},
       "overflow": false,
       "plotOptions": {
        "customPlotOptions": {},
        "displayType": "table",
        "pivotAggregation": null,
        "pivotColumns": null,
        "xColumns": null,
        "yColumns": null
       },
       "removedWidgets": [],
       "schema": [
        {
         "metadata": "{}",
         "name": "_c0",
         "type": "\"string\""
        },
        {
         "metadata": "{}",
         "name": "carat",
         "type": "\"string\""
        },
        {
         "metadata": "{}",
         "name": "cut",
         "type": "\"string\""
        },
        {
         "metadata": "{}",
         "name": "color",
         "type": "\"string\""
        },
        {
         "metadata": "{}",
         "name": "clarity",
         "type": "\"string\""
        },
        {
         "metadata": "{}",
         "name": "depth",
         "type": "\"string\""
        },
        {
         "metadata": "{}",
         "name": "table",
         "type": "\"string\""
        },
        {
         "metadata": "{}",
         "name": "price",
         "type": "\"string\""
        },
        {
         "metadata": "{}",
         "name": "x",
         "type": "\"string\""
        },
        {
         "metadata": "{}",
         "name": "y",
         "type": "\"string\""
        },
        {
         "metadata": "{}",
         "name": "z",
         "type": "\"string\""
        }
       ],
       "type": "table"
      }
     },
     "output_type": "display_data"
    }
   ],
   "source": [
    "%sql \n",
    "\n",
    "-- Check for missing values in a specific column\n",
    "-- Example: price column does not have any missing value\n",
    "\n",
    "SELECT *\n",
    "FROM diamonds\n",
    "WHERE price IS NULL;\n"
   ]
  },
  {
   "cell_type": "code",
   "execution_count": 0,
   "metadata": {
    "application/vnd.databricks.v1+cell": {
     "cellMetadata": {
      "byteLimit": 2048000,
      "implicitDf": true,
      "rowLimit": 10000
     },
     "inputWidgets": {},
     "nuid": "2fa50795-e457-4c94-acaf-773e89d16a45",
     "showTitle": false,
     "title": ""
    }
   },
   "outputs": [
    {
     "output_type": "display_data",
     "data": {
      "text/html": [
       "<style scoped>\n",
       "  .table-result-container {\n",
       "    max-height: 300px;\n",
       "    overflow: auto;\n",
       "  }\n",
       "  table, th, td {\n",
       "    border: 1px solid black;\n",
       "    border-collapse: collapse;\n",
       "  }\n",
       "  th, td {\n",
       "    padding: 5px;\n",
       "  }\n",
       "  th {\n",
       "    text-align: left;\n",
       "  }\n",
       "</style><div class='table-result-container'><table class='table-result'><thead style='background-color: white'><tr><th>min_carat</th><th>max_carat</th><th>avg_carat</th><th>std_carat</th><th>min_price</th><th>max_price</th><th>avg_price</th><th>std_price</th></tr></thead><tbody><tr><td>0.2</td><td>5.01</td><td>0.7979397478679852</td><td>0.4740112444054196</td><td>1000</td><td>9999</td><td>3932.799721913237</td><td>3989.439738146397</td></tr></tbody></table></div>"
      ]
     },
     "metadata": {
      "application/vnd.databricks.v1+output": {
       "addedWidgets": {},
       "aggData": [],
       "aggError": "",
       "aggOverflow": false,
       "aggSchema": [],
       "aggSeriesLimitReached": false,
       "aggType": "",
       "arguments": {},
       "columnCustomDisplayInfos": {},
       "data": [
        [
         "0.2",
         "5.01",
         0.7979397478679852,
         0.4740112444054196,
         "1000",
         "9999",
         3932.799721913237,
         3989.439738146397
        ]
       ],
       "datasetInfos": [],
       "dbfsResultPath": null,
       "isJsonSchema": true,
       "metadata": {},
       "overflow": false,
       "plotOptions": {
        "customPlotOptions": {},
        "displayType": "table",
        "pivotAggregation": null,
        "pivotColumns": null,
        "xColumns": null,
        "yColumns": null
       },
       "removedWidgets": [],
       "schema": [
        {
         "metadata": "{}",
         "name": "min_carat",
         "type": "\"string\""
        },
        {
         "metadata": "{}",
         "name": "max_carat",
         "type": "\"string\""
        },
        {
         "metadata": "{}",
         "name": "avg_carat",
         "type": "\"double\""
        },
        {
         "metadata": "{}",
         "name": "std_carat",
         "type": "\"double\""
        },
        {
         "metadata": "{}",
         "name": "min_price",
         "type": "\"string\""
        },
        {
         "metadata": "{}",
         "name": "max_price",
         "type": "\"string\""
        },
        {
         "metadata": "{}",
         "name": "avg_price",
         "type": "\"double\""
        },
        {
         "metadata": "{}",
         "name": "std_price",
         "type": "\"double\""
        }
       ],
       "type": "table"
      }
     },
     "output_type": "display_data"
    }
   ],
   "source": [
    "%sql\n",
    "\n",
    "-- Summary statistics for key numeric attributes (carat, price) in the 'diamonds' table, offering insights into the dataset's central tendencies and ranges.\n",
    "-- 'min_carat' and 'max_carat' represent the minimum and maximum carat values in the dataset.\n",
    "-- 'avg_carat' provides the average carat value, offering a measure of central tendency.\n",
    "-- 'min_price' and 'max_price' denote the minimum and maximum prices, reflecting the price range of diamonds.\n",
    "-- 'avg_price' represents the average price, giving a sense of the typical cost within the dataset.\n",
    "-- 'std_carat': calculates the standard deviation of the 'carat' column.\n",
    "-- 'std_price': calculates the standard deviation of the 'price' column.\n",
    "\n",
    "SELECT \n",
    "  MIN(carat) AS min_carat,\n",
    "  MAX(carat) AS max_carat,\n",
    "  AVG(carat) AS avg_carat,\n",
    "  STDDEV(carat) AS std_carat,\n",
    "  MIN(price) AS min_price,\n",
    "  MAX(price) AS max_price,\n",
    "  AVG(price) AS avg_price,\n",
    "  STDDEV(price) AS std_price\n",
    "FROM diamonds;"
   ]
  },
  {
   "cell_type": "code",
   "execution_count": 0,
   "metadata": {
    "application/vnd.databricks.v1+cell": {
     "cellMetadata": {
      "byteLimit": 2048000,
      "implicitDf": true,
      "rowLimit": 10000
     },
     "inputWidgets": {},
     "nuid": "e5cb66a9-0a6b-4d76-be9d-82e65ace919b",
     "showTitle": false,
     "title": ""
    }
   },
   "outputs": [
    {
     "output_type": "display_data",
     "data": {
      "text/html": [
       "<style scoped>\n",
       "  .table-result-container {\n",
       "    max-height: 300px;\n",
       "    overflow: auto;\n",
       "  }\n",
       "  table, th, td {\n",
       "    border: 1px solid black;\n",
       "    border-collapse: collapse;\n",
       "  }\n",
       "  th, td {\n",
       "    padding: 5px;\n",
       "  }\n",
       "  th {\n",
       "    text-align: left;\n",
       "  }\n",
       "</style><div class='table-result-container'><table class='table-result'><thead style='background-color: white'><tr><th>cut</th><th>cut_count</th></tr></thead><tbody><tr><td>Ideal</td><td>21551</td></tr><tr><td>Premium</td><td>13791</td></tr><tr><td>Very Good</td><td>12082</td></tr><tr><td>Good</td><td>4906</td></tr><tr><td>Fair</td><td>1610</td></tr></tbody></table></div>"
      ]
     },
     "metadata": {
      "application/vnd.databricks.v1+output": {
       "addedWidgets": {},
       "aggData": [],
       "aggError": "",
       "aggOverflow": false,
       "aggSchema": [],
       "aggSeriesLimitReached": false,
       "aggType": "",
       "arguments": {},
       "columnCustomDisplayInfos": {},
       "data": [
        [
         "Ideal",
         21551
        ],
        [
         "Premium",
         13791
        ],
        [
         "Very Good",
         12082
        ],
        [
         "Good",
         4906
        ],
        [
         "Fair",
         1610
        ]
       ],
       "datasetInfos": [],
       "dbfsResultPath": null,
       "isJsonSchema": true,
       "metadata": {},
       "overflow": false,
       "plotOptions": {
        "customPlotOptions": {},
        "displayType": "table",
        "pivotAggregation": null,
        "pivotColumns": null,
        "xColumns": null,
        "yColumns": null
       },
       "removedWidgets": [],
       "schema": [
        {
         "metadata": "{}",
         "name": "cut",
         "type": "\"string\""
        },
        {
         "metadata": "{}",
         "name": "cut_count",
         "type": "\"long\""
        }
       ],
       "type": "table"
      }
     },
     "output_type": "display_data"
    },
    {
     "output_type": "display_data",
     "data": {
      "text/plain": [
       "Databricks visualization. Run in Databricks to view."
      ]
     },
     "metadata": {
      "application/vnd.databricks.v1.subcommand+json": {
       "baseErrorDetails": null,
       "bindings": {},
       "collapsed": false,
       "command": "%sql WITH q AS (SELECT cut, COUNT(*) AS cut_count\nFROM diamonds\nGROUP BY cut\nORDER BY cut_count DESC) SELECT `cut`,SUM(`cut_count`) `column_7a5a5dcd2` FROM q GROUP BY `cut`",
       "commandTitle": "Visualization 1",
       "commandType": "auto",
       "commandVersion": 0,
       "commentThread": [],
       "commentsVisible": false,
       "contentSha256Hex": null,
       "customPlotOptions": {
        "redashChart": [
         {
          "key": "type",
          "value": "CHART"
         },
         {
          "key": "options",
          "value": {
           "alignYAxesAtZero": true,
           "coefficient": 1,
           "columnConfigurationMap": {
            "x": {
             "column": "cut",
             "id": "column_7a5a5dcd1"
            },
            "y": [
             {
              "column": "cut_count",
              "id": "column_7a5a5dcd2",
              "transform": "SUM"
             }
            ]
           },
           "dateTimeFormat": "DD/MM/YYYY HH:mm",
           "direction": {
            "type": "counterclockwise"
           },
           "error_y": {
            "type": "data",
            "visible": true
           },
           "globalSeriesType": "column",
           "isAggregationOn": true,
           "legend": {
            "traceorder": "normal"
           },
           "missingValuesAsZero": true,
           "numberFormat": "0,0.[0000]",
           "percentFormat": "0[.]00%",
           "series": {
            "error_y": {
             "type": "data",
             "visible": true
            },
            "stacking": null
           },
           "seriesOptions": {
            "column_7a5a5dcd2": {
             "color": "#A58AFF",
             "name": "cut_count",
             "yAxis": 0
            }
           },
           "showDataLabels": true,
           "sizemode": "diameter",
           "sortX": true,
           "sortY": true,
           "swappedAxes": false,
           "textFormat": "",
           "useAggregationsUi": true,
           "valuesOptions": {},
           "version": 2,
           "xAxis": {
            "labels": {
             "enabled": true
            },
            "type": "-"
           },
           "yAxis": [
            {
             "type": "-"
            },
            {
             "opposite": true,
             "type": "-"
            }
           ]
          }
         }
        ]
       },
       "datasetPreviewNameToCmdIdMap": {},
       "diffDeletes": [],
       "diffInserts": [],
       "displayType": "redashChart",
       "error": null,
       "errorDetails": null,
       "errorSummary": null,
       "errorTraceType": null,
       "finishTime": 0,
       "globalVars": {},
       "guid": "",
       "height": "auto",
       "hideCommandCode": false,
       "hideCommandResult": false,
       "iPythonMetadata": null,
       "inputWidgets": {},
       "isLockedInExamMode": false,
       "latestUser": "a user",
       "latestUserId": null,
       "listResultMetadata": null,
       "metadata": {
        "byteLimit": 2048000,
        "implicitDf": true,
        "rowLimit": 10000
       },
       "nuid": "794c1493-0c04-45ea-b0db-f11634e5fb0c",
       "origId": 0,
       "parentHierarchy": [],
       "pivotAggregation": null,
       "pivotColumns": null,
       "position": 8.0,
       "resultDbfsErrorMessage": null,
       "resultDbfsStatus": "INLINED_IN_TREE",
       "results": null,
       "showCommandTitle": false,
       "startTime": 0,
       "state": "finished",
       "streamStates": {},
       "subcommandOptions": {
        "queryPlan": {
         "groups": [
          {
           "column": "cut",
           "type": "column"
          }
         ],
         "selects": [
          {
           "column": "cut",
           "type": "column"
          },
          {
           "alias": "column_7a5a5dcd2",
           "args": [
            {
             "column": "cut_count",
             "type": "column"
            }
           ],
           "function": "SUM",
           "type": "function"
          }
         ]
        }
       },
       "submitTime": 0,
       "subtype": "tableResultSubCmd.visualization",
       "tableResultIndex": 0,
       "useConsistentColors": false,
       "version": "CommandV1",
       "width": "auto",
       "workflows": [],
       "xColumns": null,
       "yColumns": null
      }
     },
     "output_type": "display_data"
    }
   ],
   "source": [
    "%sql \n",
    "\n",
    "-- Distribution of cuts\n",
    "-- Analyzes the distribution of different 'cut' categories in the 'diamonds' table, providing a breakdown of the occurrence of each cut.\n",
    "-- The result set displays the 'cut' categories along with their respective 'cut_count,' representing the number of diamonds with each cut.\n",
    "-- The 'Ideal' cut has the highest count, while the 'Fair' cut represents the cut with the lowest count.\n",
    "\n",
    "SELECT cut, COUNT(*) AS cut_count\n",
    "FROM diamonds\n",
    "GROUP BY cut\n",
    "ORDER BY cut_count DESC;"
   ]
  },
  {
   "cell_type": "code",
   "execution_count": 0,
   "metadata": {
    "application/vnd.databricks.v1+cell": {
     "cellMetadata": {
      "byteLimit": 2048000,
      "implicitDf": true,
      "rowLimit": 10000
     },
     "inputWidgets": {},
     "nuid": "f933ff4b-96a6-4052-a2e4-482bab82c4e9",
     "showTitle": false,
     "title": ""
    }
   },
   "outputs": [
    {
     "output_type": "display_data",
     "data": {
      "text/html": [
       "<style scoped>\n",
       "  .table-result-container {\n",
       "    max-height: 300px;\n",
       "    overflow: auto;\n",
       "  }\n",
       "  table, th, td {\n",
       "    border: 1px solid black;\n",
       "    border-collapse: collapse;\n",
       "  }\n",
       "  th, td {\n",
       "    padding: 5px;\n",
       "  }\n",
       "  th {\n",
       "    text-align: left;\n",
       "  }\n",
       "</style><div class='table-result-container'><table class='table-result'><thead style='background-color: white'><tr><th>cut</th><th>avg_price_per_carat</th></tr></thead><tbody><tr><td>Premium</td><td>4222.905374481622</td></tr><tr><td>Very Good</td><td>4014.1283656780056</td></tr><tr><td>Ideal</td><td>3919.6998251310333</td></tr><tr><td>Good</td><td>3860.0276797498113</td></tr><tr><td>Fair</td><td>3767.255681282342</td></tr></tbody></table></div>"
      ]
     },
     "metadata": {
      "application/vnd.databricks.v1+output": {
       "addedWidgets": {},
       "aggData": [],
       "aggError": "",
       "aggOverflow": false,
       "aggSchema": [],
       "aggSeriesLimitReached": false,
       "aggType": "",
       "arguments": {},
       "columnCustomDisplayInfos": {},
       "data": [
        [
         "Premium",
         4222.905374481622
        ],
        [
         "Very Good",
         4014.1283656780056
        ],
        [
         "Ideal",
         3919.6998251310333
        ],
        [
         "Good",
         3860.0276797498113
        ],
        [
         "Fair",
         3767.255681282342
        ]
       ],
       "datasetInfos": [],
       "dbfsResultPath": null,
       "isJsonSchema": true,
       "metadata": {},
       "overflow": false,
       "plotOptions": {
        "customPlotOptions": {},
        "displayType": "table",
        "pivotAggregation": null,
        "pivotColumns": null,
        "xColumns": null,
        "yColumns": null
       },
       "removedWidgets": [],
       "schema": [
        {
         "metadata": "{}",
         "name": "cut",
         "type": "\"string\""
        },
        {
         "metadata": "{}",
         "name": "avg_price_per_carat",
         "type": "\"double\""
        }
       ],
       "type": "table"
      }
     },
     "output_type": "display_data"
    },
    {
     "output_type": "display_data",
     "data": {
      "text/plain": [
       "Databricks visualization. Run in Databricks to view."
      ]
     },
     "metadata": {
      "application/vnd.databricks.v1.subcommand+json": {
       "baseErrorDetails": null,
       "bindings": {},
       "collapsed": false,
       "command": "%sql WITH q AS (SELECT cut, AVG(price/carat) AS avg_price_per_carat\nFROM diamonds\nGROUP BY cut\nORDER BY avg_price_per_carat DESC) SELECT `cut`,SUM(`avg_price_per_carat`) `column_7a5a5dcd4` FROM q GROUP BY `cut`",
       "commandTitle": "Visualization 1",
       "commandType": "auto",
       "commandVersion": 0,
       "commentThread": [],
       "commentsVisible": false,
       "contentSha256Hex": null,
       "customPlotOptions": {
        "redashChart": [
         {
          "key": "type",
          "value": "CHART"
         },
         {
          "key": "options",
          "value": {
           "alignYAxesAtZero": true,
           "coefficient": 1,
           "columnConfigurationMap": {
            "x": {
             "column": "cut",
             "id": "column_7a5a5dcd3"
            },
            "y": [
             {
              "column": "avg_price_per_carat",
              "id": "column_7a5a5dcd4",
              "transform": "SUM"
             }
            ]
           },
           "dateTimeFormat": "DD/MM/YYYY HH:mm",
           "direction": {
            "type": "counterclockwise"
           },
           "error_y": {
            "type": "data",
            "visible": true
           },
           "globalSeriesType": "line",
           "isAggregationOn": true,
           "legend": {
            "traceorder": "normal"
           },
           "missingValuesAsZero": true,
           "numberFormat": "0,0.[00]",
           "percentFormat": "0[.]00%",
           "series": {
            "error_y": {
             "type": "data",
             "visible": true
            },
            "stacking": null
           },
           "seriesOptions": {
            "column_7a5a5dcd4": {
             "color": "#A58AFF",
             "name": "avg_price_per_carat",
             "type": "line",
             "yAxis": 0
            }
           },
           "showDataLabels": true,
           "sizemode": "diameter",
           "sortX": true,
           "sortY": true,
           "swappedAxes": false,
           "textFormat": "",
           "useAggregationsUi": true,
           "valuesOptions": {},
           "version": 2,
           "xAxis": {
            "labels": {
             "enabled": true
            },
            "type": "-"
           },
           "yAxis": [
            {
             "type": "-"
            },
            {
             "opposite": true,
             "type": "-"
            }
           ]
          }
         }
        ]
       },
       "datasetPreviewNameToCmdIdMap": {},
       "diffDeletes": [],
       "diffInserts": [],
       "displayType": "redashChart",
       "error": null,
       "errorDetails": null,
       "errorSummary": null,
       "errorTraceType": null,
       "finishTime": 0,
       "globalVars": {},
       "guid": "",
       "height": "auto",
       "hideCommandCode": false,
       "hideCommandResult": false,
       "iPythonMetadata": null,
       "inputWidgets": {},
       "isLockedInExamMode": false,
       "latestUser": "a user",
       "latestUserId": null,
       "listResultMetadata": null,
       "metadata": {
        "byteLimit": 2048000,
        "implicitDf": true,
        "rowLimit": 10000
       },
       "nuid": "209ef658-d91f-4174-a986-86916eb7ce36",
       "origId": 0,
       "parentHierarchy": [],
       "pivotAggregation": null,
       "pivotColumns": null,
       "position": 9.0,
       "resultDbfsErrorMessage": null,
       "resultDbfsStatus": "INLINED_IN_TREE",
       "results": null,
       "showCommandTitle": false,
       "startTime": 0,
       "state": "finished",
       "streamStates": {},
       "subcommandOptions": {
        "queryPlan": {
         "groups": [
          {
           "column": "cut",
           "type": "column"
          }
         ],
         "selects": [
          {
           "column": "cut",
           "type": "column"
          },
          {
           "alias": "column_7a5a5dcd4",
           "args": [
            {
             "column": "avg_price_per_carat",
             "type": "column"
            }
           ],
           "function": "SUM",
           "type": "function"
          }
         ]
        }
       },
       "submitTime": 0,
       "subtype": "tableResultSubCmd.visualization",
       "tableResultIndex": 0,
       "useConsistentColors": false,
       "version": "CommandV1",
       "width": "auto",
       "workflows": [],
       "xColumns": null,
       "yColumns": null
      }
     },
     "output_type": "display_data"
    }
   ],
   "source": [
    "%sql\n",
    "\n",
    "-- Average price per carat for each cut\n",
    "-- Calculates the average price per carat for each 'cut' category in the 'diamonds' table, providing insights into the cost efficiency of different cuts.\n",
    "-- The 'Premium' cut has the highest average price per carat, while the 'Fair' cut corresponds to the cut with the lowest average price per carat.\n",
    "\n",
    "SELECT cut, AVG(price/carat) AS avg_price_per_carat\n",
    "FROM diamonds\n",
    "GROUP BY cut\n",
    "ORDER BY avg_price_per_carat DESC;"
   ]
  },
  {
   "cell_type": "code",
   "execution_count": 0,
   "metadata": {
    "application/vnd.databricks.v1+cell": {
     "cellMetadata": {
      "byteLimit": 2048000,
      "implicitDf": true,
      "rowLimit": 10000
     },
     "inputWidgets": {},
     "nuid": "8afa12ca-e770-45f8-9d47-12a566b0a8d2",
     "showTitle": false,
     "title": ""
    }
   },
   "outputs": [
    {
     "output_type": "display_data",
     "data": {
      "text/html": [
       "<style scoped>\n",
       "  .table-result-container {\n",
       "    max-height: 300px;\n",
       "    overflow: auto;\n",
       "  }\n",
       "  table, th, td {\n",
       "    border: 1px solid black;\n",
       "    border-collapse: collapse;\n",
       "  }\n",
       "  th, td {\n",
       "    padding: 5px;\n",
       "  }\n",
       "  th {\n",
       "    text-align: left;\n",
       "  }\n",
       "</style><div class='table-result-container'><table class='table-result'><thead style='background-color: white'><tr><th>cut</th><th>color</th><th>avg_price</th></tr></thead><tbody><tr><td>Premium</td><td>J</td><td>6294.591584158416</td></tr><tr><td>Premium</td><td>I</td><td>5946.180672268908</td></tr><tr><td>Very Good</td><td>I</td><td>5255.879568106312</td></tr><tr><td>Premium</td><td>H</td><td>5216.706779661017</td></tr><tr><td>Fair</td><td>H</td><td>5135.683168316832</td></tr><tr><td>Very Good</td><td>J</td><td>5103.513274336283</td></tr><tr><td>Good</td><td>I</td><td>5078.532567049809</td></tr><tr><td>Fair</td><td>J</td><td>4975.655462184874</td></tr><tr><td>Ideal</td><td>J</td><td>4918.186383928572</td></tr><tr><td>Fair</td><td>I</td><td>4685.4457142857145</td></tr><tr><td>Good</td><td>J</td><td>4574.172638436482</td></tr><tr><td>Very Good</td><td>H</td><td>4535.390350877193</td></tr><tr><td>Premium</td><td>G</td><td>4500.742134062927</td></tr><tr><td>Ideal</td><td>I</td><td>4451.970377448638</td></tr><tr><td>Premium</td><td>F</td><td>4324.890175890176</td></tr><tr><td>Fair</td><td>D</td><td>4291.061349693252</td></tr><tr><td>Good</td><td>H</td><td>4276.254985754986</td></tr><tr><td>Fair</td><td>G</td><td>4239.254777070064</td></tr><tr><td>Good</td><td>G</td><td>4123.482204362801</td></tr><tr><td>Ideal</td><td>H</td><td>3889.334831460674</td></tr><tr><td>Very Good</td><td>G</td><td>3872.75380600261</td></tr><tr><td>Fair</td><td>F</td><td>3827.003205128205</td></tr><tr><td>Very Good</td><td>F</td><td>3778.8202402957486</td></tr><tr><td>Ideal</td><td>G</td><td>3720.706388206388</td></tr><tr><td>Fair</td><td>E</td><td>3682.3125</td></tr><tr><td>Premium</td><td>D</td><td>3631.292576419214</td></tr><tr><td>Premium</td><td>E</td><td>3538.9144201968334</td></tr><tr><td>Good</td><td>F</td><td>3495.7502750275025</td></tr><tr><td>Very Good</td><td>D</td><td>3470.4672835426304</td></tr><tr><td>Good</td><td>E</td><td>3423.6441586280816</td></tr><tr><td>Good</td><td>D</td><td>3405.3821752265862</td></tr><tr><td>Ideal</td><td>F</td><td>3374.9393622582334</td></tr><tr><td>Very Good</td><td>E</td><td>3214.6520833333334</td></tr><tr><td>Ideal</td><td>D</td><td>2629.0945659844742</td></tr><tr><td>Ideal</td><td>E</td><td>2597.5500896746094</td></tr></tbody></table></div>"
      ]
     },
     "metadata": {
      "application/vnd.databricks.v1+output": {
       "addedWidgets": {},
       "aggData": [],
       "aggError": "",
       "aggOverflow": false,
       "aggSchema": [],
       "aggSeriesLimitReached": false,
       "aggType": "",
       "arguments": {},
       "columnCustomDisplayInfos": {},
       "data": [
        [
         "Premium",
         "J",
         6294.591584158416
        ],
        [
         "Premium",
         "I",
         5946.180672268908
        ],
        [
         "Very Good",
         "I",
         5255.879568106312
        ],
        [
         "Premium",
         "H",
         5216.706779661017
        ],
        [
         "Fair",
         "H",
         5135.683168316832
        ],
        [
         "Very Good",
         "J",
         5103.513274336283
        ],
        [
         "Good",
         "I",
         5078.532567049809
        ],
        [
         "Fair",
         "J",
         4975.655462184874
        ],
        [
         "Ideal",
         "J",
         4918.186383928572
        ],
        [
         "Fair",
         "I",
         4685.4457142857145
        ],
        [
         "Good",
         "J",
         4574.172638436482
        ],
        [
         "Very Good",
         "H",
         4535.390350877193
        ],
        [
         "Premium",
         "G",
         4500.742134062927
        ],
        [
         "Ideal",
         "I",
         4451.970377448638
        ],
        [
         "Premium",
         "F",
         4324.890175890176
        ],
        [
         "Fair",
         "D",
         4291.061349693252
        ],
        [
         "Good",
         "H",
         4276.254985754986
        ],
        [
         "Fair",
         "G",
         4239.254777070064
        ],
        [
         "Good",
         "G",
         4123.482204362801
        ],
        [
         "Ideal",
         "H",
         3889.334831460674
        ],
        [
         "Very Good",
         "G",
         3872.75380600261
        ],
        [
         "Fair",
         "F",
         3827.003205128205
        ],
        [
         "Very Good",
         "F",
         3778.8202402957486
        ],
        [
         "Ideal",
         "G",
         3720.706388206388
        ],
        [
         "Fair",
         "E",
         3682.3125
        ],
        [
         "Premium",
         "D",
         3631.292576419214
        ],
        [
         "Premium",
         "E",
         3538.9144201968334
        ],
        [
         "Good",
         "F",
         3495.7502750275025
        ],
        [
         "Very Good",
         "D",
         3470.4672835426304
        ],
        [
         "Good",
         "E",
         3423.6441586280816
        ],
        [
         "Good",
         "D",
         3405.3821752265862
        ],
        [
         "Ideal",
         "F",
         3374.9393622582334
        ],
        [
         "Very Good",
         "E",
         3214.6520833333334
        ],
        [
         "Ideal",
         "D",
         2629.0945659844742
        ],
        [
         "Ideal",
         "E",
         2597.5500896746094
        ]
       ],
       "datasetInfos": [],
       "dbfsResultPath": null,
       "isJsonSchema": true,
       "metadata": {},
       "overflow": false,
       "plotOptions": {
        "customPlotOptions": {},
        "displayType": "table",
        "pivotAggregation": null,
        "pivotColumns": null,
        "xColumns": null,
        "yColumns": null
       },
       "removedWidgets": [],
       "schema": [
        {
         "metadata": "{}",
         "name": "cut",
         "type": "\"string\""
        },
        {
         "metadata": "{}",
         "name": "color",
         "type": "\"string\""
        },
        {
         "metadata": "{}",
         "name": "avg_price",
         "type": "\"double\""
        }
       ],
       "type": "table"
      }
     },
     "output_type": "display_data"
    },
    {
     "output_type": "display_data",
     "data": {
      "text/plain": [
       "Databricks visualization. Run in Databricks to view."
      ]
     },
     "metadata": {
      "application/vnd.databricks.v1.subcommand+json": {
       "baseErrorDetails": null,
       "bindings": {},
       "collapsed": false,
       "command": "%sql WITH q AS (SELECT \n  cut,\n  color,\n  AVG(price) AS avg_price\nFROM diamonds\nGROUP BY cut, color\nORDER BY avg_price DESC) SELECT `cut`,`color`,SUM(`avg_price`) `column_37496daa3` FROM q GROUP BY `color`,`cut`",
       "commandTitle": "Visualization 1",
       "commandType": "auto",
       "commandVersion": 0,
       "commentThread": [],
       "commentsVisible": false,
       "contentSha256Hex": null,
       "customPlotOptions": {
        "redashChart": [
         {
          "key": "type",
          "value": "CHART"
         },
         {
          "key": "options",
          "value": {
           "alignYAxesAtZero": true,
           "coefficient": 1,
           "columnConfigurationMap": {
            "series": {
             "column": "color",
             "id": "column_37496daa2"
            },
            "x": {
             "column": "cut",
             "id": "column_37496daa1"
            },
            "y": [
             {
              "column": "avg_price",
              "id": "column_37496daa3",
              "transform": "SUM"
             }
            ]
           },
           "dateTimeFormat": "DD/MM/YYYY HH:mm",
           "direction": {
            "type": "counterclockwise"
           },
           "error_y": {
            "type": "data",
            "visible": true
           },
           "globalSeriesType": "column",
           "isAggregationOn": true,
           "legend": {
            "traceorder": "normal"
           },
           "missingValuesAsZero": true,
           "numberFormat": "0,0.[00]",
           "percentFormat": "0[.]00%",
           "series": {
            "error_y": {
             "type": "data",
             "visible": true
            },
            "stacking": null
           },
           "seriesOptions": {
            "column_37496daa3": {
             "name": "avg_price",
             "type": "column",
             "yAxis": 0
            }
           },
           "showDataLabels": true,
           "sizemode": "diameter",
           "sortX": true,
           "sortY": true,
           "swappedAxes": false,
           "textFormat": "",
           "useAggregationsUi": true,
           "valuesOptions": {},
           "version": 2,
           "xAxis": {
            "labels": {
             "enabled": true
            },
            "type": "-"
           },
           "yAxis": [
            {
             "type": "-"
            },
            {
             "opposite": true,
             "type": "-"
            }
           ]
          }
         }
        ]
       },
       "datasetPreviewNameToCmdIdMap": {},
       "diffDeletes": [],
       "diffInserts": [],
       "displayType": "redashChart",
       "error": null,
       "errorDetails": null,
       "errorSummary": null,
       "errorTraceType": null,
       "finishTime": 0,
       "globalVars": {},
       "guid": "",
       "height": "auto",
       "hideCommandCode": false,
       "hideCommandResult": false,
       "iPythonMetadata": null,
       "inputWidgets": {},
       "isLockedInExamMode": false,
       "latestUser": "a user",
       "latestUserId": null,
       "listResultMetadata": null,
       "metadata": {
        "byteLimit": 2048000,
        "implicitDf": true,
        "rowLimit": 10000
       },
       "nuid": "7b525f1f-6fe3-420c-9ade-0999754c7aa2",
       "origId": 0,
       "parentHierarchy": [],
       "pivotAggregation": null,
       "pivotColumns": null,
       "position": 10.0,
       "resultDbfsErrorMessage": null,
       "resultDbfsStatus": "INLINED_IN_TREE",
       "results": null,
       "showCommandTitle": false,
       "startTime": 0,
       "state": "finished",
       "streamStates": {},
       "subcommandOptions": {
        "queryPlan": {
         "groups": [
          {
           "column": "cut",
           "type": "column"
          },
          {
           "column": "color",
           "type": "column"
          }
         ],
         "selects": [
          {
           "column": "cut",
           "type": "column"
          },
          {
           "column": "color",
           "type": "column"
          },
          {
           "alias": "column_37496daa3",
           "args": [
            {
             "column": "avg_price",
             "type": "column"
            }
           ],
           "function": "SUM",
           "type": "function"
          }
         ]
        }
       },
       "submitTime": 0,
       "subtype": "tableResultSubCmd.visualization",
       "tableResultIndex": 0,
       "useConsistentColors": false,
       "version": "CommandV1",
       "width": "auto",
       "workflows": [],
       "xColumns": null,
       "yColumns": null
      }
     },
     "output_type": "display_data"
    }
   ],
   "source": [
    "%sql \n",
    "\n",
    "-- Average price for each combination of cut and color\n",
    "-- Explores the average price of diamonds based on both their cut and color attributes, providing insights into potential variations in pricing\n",
    "\n",
    "SELECT \n",
    "  cut,\n",
    "  color,\n",
    "  AVG(price) AS avg_price\n",
    "FROM diamonds\n",
    "GROUP BY cut, color\n",
    "ORDER BY avg_price DESC;"
   ]
  },
  {
   "cell_type": "code",
   "execution_count": 0,
   "metadata": {
    "application/vnd.databricks.v1+cell": {
     "cellMetadata": {
      "byteLimit": 2048000,
      "implicitDf": true,
      "rowLimit": 10000
     },
     "inputWidgets": {},
     "nuid": "aba4ab32-d628-4b76-8b4c-56bff820c02d",
     "showTitle": false,
     "title": ""
    }
   },
   "outputs": [
    {
     "output_type": "display_data",
     "data": {
      "text/html": [
       "<style scoped>\n",
       "  .table-result-container {\n",
       "    max-height: 300px;\n",
       "    overflow: auto;\n",
       "  }\n",
       "  table, th, td {\n",
       "    border: 1px solid black;\n",
       "    border-collapse: collapse;\n",
       "  }\n",
       "  th, td {\n",
       "    padding: 5px;\n",
       "  }\n",
       "  th {\n",
       "    text-align: left;\n",
       "  }\n",
       "</style><div class='table-result-container'><table class='table-result'><thead style='background-color: white'><tr><th>corr_carat_price</th><th>corr_depth_price</th><th>corr_table_price</th><th>corr_x_price</th><th>corr_y_price</th><th>corr_z_price</th></tr></thead><tbody><tr><td>0.9215913011934687</td><td>-0.0106474045841554</td><td>0.1271339021217227</td><td>0.8844351610161172</td><td>0.8654208978641907</td><td>0.8612494438514451</td></tr></tbody></table></div>"
      ]
     },
     "metadata": {
      "application/vnd.databricks.v1+output": {
       "addedWidgets": {},
       "aggData": [],
       "aggError": "",
       "aggOverflow": false,
       "aggSchema": [],
       "aggSeriesLimitReached": false,
       "aggType": "",
       "arguments": {},
       "columnCustomDisplayInfos": {},
       "data": [
        [
         0.9215913011934687,
         -0.0106474045841554,
         0.1271339021217227,
         0.8844351610161172,
         0.8654208978641907,
         0.8612494438514451
        ]
       ],
       "datasetInfos": [],
       "dbfsResultPath": null,
       "isJsonSchema": true,
       "metadata": {},
       "overflow": false,
       "plotOptions": {
        "customPlotOptions": {},
        "displayType": "table",
        "pivotAggregation": null,
        "pivotColumns": null,
        "xColumns": null,
        "yColumns": null
       },
       "removedWidgets": [],
       "schema": [
        {
         "metadata": "{}",
         "name": "corr_carat_price",
         "type": "\"double\""
        },
        {
         "metadata": "{}",
         "name": "corr_depth_price",
         "type": "\"double\""
        },
        {
         "metadata": "{}",
         "name": "corr_table_price",
         "type": "\"double\""
        },
        {
         "metadata": "{}",
         "name": "corr_x_price",
         "type": "\"double\""
        },
        {
         "metadata": "{}",
         "name": "corr_y_price",
         "type": "\"double\""
        },
        {
         "metadata": "{}",
         "name": "corr_z_price",
         "type": "\"double\""
        }
       ],
       "type": "table"
      }
     },
     "output_type": "display_data"
    }
   ],
   "source": [
    "%sql\n",
    "\n",
    "-- Calculate correlation\n",
    "-- The correlation query indicate the strength and direction of the linear relationship between each of the specified variables (carat, depth, table, x, y, z) and the target variable 'price' in diamonds dataset\n",
    "-- corr_carat_price (0.9216): There is a very strong positive correlation between carat and price. As carat increases, the price tends to increase linearly.\n",
    "-- corr_depth_price (-0.0106): There is a very weak negative correlation between depth and price. The correlation is close to zero, suggesting little to no linear relationship between depth and price.\n",
    "-- corr_table_price (0.1271): There is a positive correlation between table and price, but it is relatively weak. As the table size increases, the price tends to increase, but the relationship is not very strong.\n",
    "-- corr_x_price (0.8844): There is a very strong positive correlation between the x dimension and price. As x increases, the price tends to increase significantly.\n",
    "-- corr_y_price (0.8654): There is a very strong positive correlation between the y dimension and price. As y increases, the price tends to increase significantly.\n",
    "-- corr_z_price (0.8612): There is a very strong positive correlation between the z dimension and price. As z increases, the price tends to increase significantly.\n",
    "\n",
    "SELECT\n",
    "  corr(carat, price) AS corr_carat_price,\n",
    "  corr(depth, price) AS corr_depth_price,\n",
    "  corr(table, price) AS corr_table_price,\n",
    "  corr(x, price) AS corr_x_price,\n",
    "  corr(y, price) AS corr_y_price,\n",
    "  corr(z, price) AS corr_z_price\n",
    "FROM diamonds;"
   ]
  }
 ],
 "metadata": {
  "application/vnd.databricks.v1+notebook": {
   "dashboards": [],
   "language": "python",
   "notebookMetadata": {
    "mostRecentlyExecutedCommandWithImplicitDF": {
     "commandId": 3162511472416380,
     "dataframes": [
      "_sqldf"
     ]
    },
    "pythonIndentUnit": 4
   },
   "notebookName": "Data Understanding_Diamonds",
   "widgets": {}
  }
 },
 "nbformat": 4,
 "nbformat_minor": 0
}
